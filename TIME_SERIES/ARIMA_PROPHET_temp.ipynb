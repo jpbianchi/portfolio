{
 "cells": [
  {
   "cell_type": "markdown",
   "source": [
    "<div style=\"font-size: 25px\">\n",
    "Let's use one of the most realistic retail time-series dataset, i.e. Walmart data. <br>\n",
    "<br>\n",
    "It was made available for a Kaggle competition that you can check out [here](https://www.kaggle.com/c/m5-forecasting-accuracy). <br>\n",
    "<br>\n",
    "The original format of the data was in a \"wide\" format to made it smaller in memory, but that doesn't really work too well with databases, and we don't see that very often in the real world. I added a date column to replace the date identifier columns that were previously there, and I made the data smaller by only subsetting to the state of Texas. <br>\n",
    "\n",
    "PS: Set `sampled` in the cells below to `True` to test on a subset!\n",
    "</div>"
   ],
   "metadata": {
    "collapsed": false
   }
  },
  {
   "cell_type": "code",
   "execution_count": 9,
   "outputs": [
    {
     "name": "stdout",
     "output_type": "stream",
     "text": [
      "/Users/JPB/.jupyter\r\n"
     ]
    }
   ],
   "source": [
    "!jupyter --config-dir"
   ],
   "metadata": {
    "collapsed": false
   }
  },
  {
   "cell_type": "code",
   "execution_count": 29,
   "outputs": [],
   "source": [
    "!pip install --upgrade jupyterthemes -q\n",
    "!jt -t oceans16 -tf merriserif -tfs 14 -nf ptsans -nfs 14\n",
    "# styles chesterish, grade3, ggruvboxd, gruvboxl, monokai, oceans16, onedork, solarizedd, solarizedl"
   ],
   "metadata": {
    "collapsed": false
   }
  },
  {
   "cell_type": "code",
   "execution_count": 1,
   "outputs": [],
   "source": [
    "# to get Jupyter display all the variables values, not only the last one\n",
    "from IPython.core.interactiveshell import InteractiveShell\n",
    "InteractiveShell.ast_node_interactivity = \"all\""
   ],
   "metadata": {
    "collapsed": false
   }
  },
  {
   "cell_type": "code",
   "execution_count": 2,
   "outputs": [],
   "source": [
    "import pandas as pd\n",
    "import numpy as np\n",
    "import pandas as pd\n",
    "import matplotlib.pyplot as plt\n",
    "from statsmodels.graphics.tsaplots import plot_pacf, plot_acf\n",
    "import seaborn as sns\n",
    "import matplotlib.pyplot as plt\n",
    "from sklearn.metrics import mean_squared_error"
   ],
   "metadata": {
    "collapsed": false
   }
  },
  {
   "cell_type": "code",
   "execution_count": 3,
   "outputs": [
    {
     "name": "stdout",
     "output_type": "stream",
     "text": [
      "Python version: 3.11.4\n",
      "1.5.3\n",
      "1.25.0\n",
      "3.7.1\n",
      "0.14.0\n",
      "0.12.2\n",
      "1.2.2\n"
     ]
    }
   ],
   "source": [
    "from platform import python_version\n",
    "print('Python version:', python_version())\n",
    "print(pd.__version__)\n",
    "print(np.__version__)\n",
    "import matplotlib\n",
    "print(matplotlib.__version__)\n",
    "import statsmodels\n",
    "print(statsmodels.__version__)\n",
    "print(sns.__version__)\n",
    "import sklearn\n",
    "print(sklearn.__version__)"
   ],
   "metadata": {
    "collapsed": false
   }
  },
  {
   "cell_type": "code",
   "execution_count": 11,
   "outputs": [],
   "source": [
    "from pathlib import Path  # pathlib is an OOP filesystem paths https://docs.python.org/3/library/pathlib.html\n",
    "datadir = Path('data')\n",
    "data = datadir / 'data.zip'\n",
    "\n",
    "if not Path(datadir).exists():\n",
    "    datadir.mkdir()\n"
   ],
   "metadata": {
    "collapsed": false
   }
  },
  {
   "cell_type": "code",
   "execution_count": 8,
   "outputs": [
    {
     "name": "stdout",
     "output_type": "stream",
     "text": [
      "Downloading...\r\n",
      "From (uriginal): https://drive.google.com/uc?id=1wqGP6UuGh5wxd2LBTBNtVqvHBkLhhAmO\r\n",
      "From (redirected): https://drive.google.com/uc?id=1wqGP6UuGh5wxd2LBTBNtVqvHBkLhhAmO&confirm=t&uuid=d03abe8e-a78f-414c-9770-15a6ac2fd26e\r\n",
      "To: /Volumes/DATA/Dropbox/IMAC BACKUP/WORK/PROJECTS/PORTFOLIO/TIME_SERIES/data/data.zip\r\n",
      "100%|████████████████████████████████████████| 179M/179M [00:06<00:00, 27.5MB/s]\r\n",
      "Archive:  data/data.zip\r\n",
      "replace data/sales_data.csv? [y]es, [n]o, [A]ll, [N]one, [r]ename: ^C\r\n",
      "total 4370784\r\n",
      "drwxr-xr-x   9 JPB  admin         306 Jun 30 22:01 \u001B[34m.\u001B[m\u001B[m\r\n",
      "drwxr-xr-x  12 JPB  admin         408 Jun 30 22:03 \u001B[34m..\u001B[m\u001B[m\r\n",
      "-rw-r--r--@  1 JPB  admin        6148 Jun 29 00:47 .DS_Store\r\n",
      "-rw-r--r--   1 JPB  admin           0 Sep  3  2017 .gitkeep\r\n",
      "-rw-r--r--   1 JPB  admin   179336037 Jun 30 22:01 data.zip\r\n",
      "-rw-r--r--   1 JPB  admin   928535251 Jan 23 09:51 sales_data.csv\r\n",
      "-rw-r--r--   1 JPB  admin     1853101 Mar 11 16:25 sales_data_sampled.csv\r\n",
      "-rw-r--r--   1 JPB  admin  1118640783 Jan 23 09:46 transactions_data.csv\r\n",
      "-rw-r--r--   1 JPB  admin     9446339 Mar 11 14:50 transactions_data_sampled.csv\r\n"
     ]
    }
   ],
   "source": [
    "!pip install -Uq --no-cache-dir gdown --pre\n",
    "!gdown --no-cookies  -O $data --fuzzy  https://drive.google.com/file/d/1wqGP6UuGh5wxd2LBTBNtVqvHBkLhhAmO/view?usp=sharing\n",
    "!unzip $data\n",
    "!ls -al $datadir"
   ],
   "metadata": {
    "collapsed": false
   }
  },
  {
   "cell_type": "code",
   "execution_count": 9,
   "outputs": [],
   "source": [
    "sampled = True  # select true to test on a smaller dataset\n",
    "path_suffix = '' if not sampled else '_sampled'"
   ],
   "metadata": {
    "collapsed": false
   }
  },
  {
   "cell_type": "markdown",
   "source": [
    "## Getting our data in the right format"
   ],
   "metadata": {
    "collapsed": false
   }
  },
  {
   "cell_type": "markdown",
   "source": [
    "<div style=\"font-size: 25px\">Time-series data has to be collected from some real-world, data-generating process. That means that raw data comes in as a series of observations. Depending on your experience with time-series data, you may be used to data that looks like this:<br>\n",
    "<br>\n",
    "| Date       | Sales |<br>\n",
    "|------------|-------|<br>\n",
    "| 2022-01-01 |  23   |<br>\n",
    "| 2022-01-02 |  45   |<br>\n",
    "| 2022-01-03 |  12   |<br>\n",
    "| 2022-01-04 |  67   |<br>\n",
    "| 2022-01-05 |  89   |<br>\n",
    "<br>\n",
    "But, if you're in retail, each of those \"sales\" probably came in some JSON from some point-of-sale system (i.e. cash register) that probably looked something like this:<br>\n",
    "\n",
    "```\n",
    "{\n",
    "    \"timestamp\": 2022-01-01 12:34:56,\n",
    "    \"product_id\": 5,\n",
    "    \"store_id\": 12,\n",
    "    \"category_id\": 36,\n",
    "    ...\n",
    "}\n",
    "```\n",
    "<br>\n",
    "Usually, it's the job of a data engineer to collect all of these records and aggregate them into a nice, tabular format, but it's worth at least having an appreciation for how it's done. So, we're going to start from a mock version of a transactions table.<br>"
   ],
   "metadata": {
    "collapsed": false
   }
  },
  {
   "cell_type": "code",
   "execution_count": 12,
   "outputs": [
    {
     "data": {
      "text/plain": "                  date                             id        item_id  \\\n0  2013-01-01 13:41:03  HOBBIES_1_004_TX_1_evaluation  HOBBIES_1_004   \n1  2013-01-01 07:30:52  HOBBIES_1_004_TX_1_evaluation  HOBBIES_1_004   \n2  2013-01-01 11:17:38  HOBBIES_1_004_TX_1_evaluation  HOBBIES_1_004   \n3  2013-01-01 06:07:58  HOBBIES_1_004_TX_2_evaluation  HOBBIES_1_004   \n4  2013-01-01 21:51:07  HOBBIES_1_004_TX_2_evaluation  HOBBIES_1_004   \n\n     dept_id   cat_id store_id state_id  \n0  HOBBIES_1  HOBBIES     TX_1       TX  \n1  HOBBIES_1  HOBBIES     TX_1       TX  \n2  HOBBIES_1  HOBBIES     TX_1       TX  \n3  HOBBIES_1  HOBBIES     TX_2       TX  \n4  HOBBIES_1  HOBBIES     TX_2       TX  ",
      "text/html": "<div>\n<style scoped>\n    .dataframe tbody tr th:only-of-type {\n        vertical-align: middle;\n    }\n\n    .dataframe tbody tr th {\n        vertical-align: top;\n    }\n\n    .dataframe thead th {\n        text-align: right;\n    }\n</style>\n<table border=\"1\" class=\"dataframe\">\n  <thead>\n    <tr style=\"text-align: right;\">\n      <th></th>\n      <th>date</th>\n      <th>id</th>\n      <th>item_id</th>\n      <th>dept_id</th>\n      <th>cat_id</th>\n      <th>store_id</th>\n      <th>state_id</th>\n    </tr>\n  </thead>\n  <tbody>\n    <tr>\n      <th>0</th>\n      <td>2013-01-01 13:41:03</td>\n      <td>HOBBIES_1_004_TX_1_evaluation</td>\n      <td>HOBBIES_1_004</td>\n      <td>HOBBIES_1</td>\n      <td>HOBBIES</td>\n      <td>TX_1</td>\n      <td>TX</td>\n    </tr>\n    <tr>\n      <th>1</th>\n      <td>2013-01-01 07:30:52</td>\n      <td>HOBBIES_1_004_TX_1_evaluation</td>\n      <td>HOBBIES_1_004</td>\n      <td>HOBBIES_1</td>\n      <td>HOBBIES</td>\n      <td>TX_1</td>\n      <td>TX</td>\n    </tr>\n    <tr>\n      <th>2</th>\n      <td>2013-01-01 11:17:38</td>\n      <td>HOBBIES_1_004_TX_1_evaluation</td>\n      <td>HOBBIES_1_004</td>\n      <td>HOBBIES_1</td>\n      <td>HOBBIES</td>\n      <td>TX_1</td>\n      <td>TX</td>\n    </tr>\n    <tr>\n      <th>3</th>\n      <td>2013-01-01 06:07:58</td>\n      <td>HOBBIES_1_004_TX_2_evaluation</td>\n      <td>HOBBIES_1_004</td>\n      <td>HOBBIES_1</td>\n      <td>HOBBIES</td>\n      <td>TX_2</td>\n      <td>TX</td>\n    </tr>\n    <tr>\n      <th>4</th>\n      <td>2013-01-01 21:51:07</td>\n      <td>HOBBIES_1_004_TX_2_evaluation</td>\n      <td>HOBBIES_1_004</td>\n      <td>HOBBIES_1</td>\n      <td>HOBBIES</td>\n      <td>TX_2</td>\n      <td>TX</td>\n    </tr>\n  </tbody>\n</table>\n</div>"
     },
     "execution_count": 12,
     "metadata": {},
     "output_type": "execute_result"
    }
   ],
   "source": [
    "transactions = pd.read_csv(f'{datadir}/transactions_data{path_suffix}.csv')\n",
    "\n",
    "transactions.head()"
   ],
   "metadata": {
    "collapsed": false
   }
  },
  {
   "cell_type": "code",
   "execution_count": 23,
   "outputs": [
    {
     "data": {
      "text/plain": "                  date                             id        item_id  \\\n0  2013-01-01 13:41:03  HOBBIES_1_004_TX_1_evaluation  HOBBIES_1_004   \n1  2013-01-01 07:30:52  HOBBIES_1_004_TX_1_evaluation  HOBBIES_1_004   \n2  2013-01-01 11:17:38  HOBBIES_1_004_TX_1_evaluation  HOBBIES_1_004   \n3  2013-01-01 20:18:59  HOBBIES_1_025_TX_1_evaluation  HOBBIES_1_025   \n4  2013-01-01 21:36:09  HOBBIES_1_028_TX_1_evaluation  HOBBIES_1_028   \n\n     dept_id   cat_id store_id state_id  \n0  HOBBIES_1  HOBBIES     TX_1       TX  \n1  HOBBIES_1  HOBBIES     TX_1       TX  \n2  HOBBIES_1  HOBBIES     TX_1       TX  \n3  HOBBIES_1  HOBBIES     TX_1       TX  \n4  HOBBIES_1  HOBBIES     TX_1       TX  ",
      "text/html": "<div>\n<style scoped>\n    .dataframe tbody tr th:only-of-type {\n        vertical-align: middle;\n    }\n\n    .dataframe tbody tr th {\n        vertical-align: top;\n    }\n\n    .dataframe thead th {\n        text-align: right;\n    }\n</style>\n<table border=\"1\" class=\"dataframe\">\n  <thead>\n    <tr style=\"text-align: right;\">\n      <th></th>\n      <th>date</th>\n      <th>id</th>\n      <th>item_id</th>\n      <th>dept_id</th>\n      <th>cat_id</th>\n      <th>store_id</th>\n      <th>state_id</th>\n    </tr>\n  </thead>\n  <tbody>\n    <tr>\n      <th>0</th>\n      <td>2013-01-01 13:41:03</td>\n      <td>HOBBIES_1_004_TX_1_evaluation</td>\n      <td>HOBBIES_1_004</td>\n      <td>HOBBIES_1</td>\n      <td>HOBBIES</td>\n      <td>TX_1</td>\n      <td>TX</td>\n    </tr>\n    <tr>\n      <th>1</th>\n      <td>2013-01-01 07:30:52</td>\n      <td>HOBBIES_1_004_TX_1_evaluation</td>\n      <td>HOBBIES_1_004</td>\n      <td>HOBBIES_1</td>\n      <td>HOBBIES</td>\n      <td>TX_1</td>\n      <td>TX</td>\n    </tr>\n    <tr>\n      <th>2</th>\n      <td>2013-01-01 11:17:38</td>\n      <td>HOBBIES_1_004_TX_1_evaluation</td>\n      <td>HOBBIES_1_004</td>\n      <td>HOBBIES_1</td>\n      <td>HOBBIES</td>\n      <td>TX_1</td>\n      <td>TX</td>\n    </tr>\n    <tr>\n      <th>3</th>\n      <td>2013-01-01 20:18:59</td>\n      <td>HOBBIES_1_025_TX_1_evaluation</td>\n      <td>HOBBIES_1_025</td>\n      <td>HOBBIES_1</td>\n      <td>HOBBIES</td>\n      <td>TX_1</td>\n      <td>TX</td>\n    </tr>\n    <tr>\n      <th>4</th>\n      <td>2013-01-01 21:36:09</td>\n      <td>HOBBIES_1_028_TX_1_evaluation</td>\n      <td>HOBBIES_1_028</td>\n      <td>HOBBIES_1</td>\n      <td>HOBBIES</td>\n      <td>TX_1</td>\n      <td>TX</td>\n    </tr>\n  </tbody>\n</table>\n</div>"
     },
     "execution_count": 23,
     "metadata": {},
     "output_type": "execute_result"
    }
   ],
   "source": [
    "transactionsFull = pd.read_csv(f'{datadir}/transactions_data.csv')  # FULL DATASET\n",
    "\n",
    "transactionsFull.head()\n",
    "del transctionFull"
   ],
   "metadata": {
    "collapsed": false
   }
  },
  {
   "cell_type": "code",
   "execution_count": 13,
   "outputs": [
    {
     "data": {
      "text/plain": "date        object\nid          object\nitem_id     object\ndept_id     object\ncat_id      object\nstore_id    object\nstate_id    object\ndtype: object"
     },
     "execution_count": 13,
     "metadata": {},
     "output_type": "execute_result"
    }
   ],
   "source": [
    "transactions.dtypes"
   ],
   "metadata": {
    "collapsed": false
   }
  },
  {
   "cell_type": "markdown",
   "source": [
    "<span style=\"font-size: 25px\"> We can see that this is a DataFrame where each row relates to purchases for an individual item.\n",
    "\n",
    "- `date`: the time at which an item was bought, down to the second\n",
    "- `id`: the product ID. Each of these is an individual item at a specific store.\n",
    "- `item_id`: this is an identifier for items, but not at the store level. You can use this to find the same item at different stores.\n",
    "- `dept_id`: department ID. One level up from `item_id` in the hierarchy\n",
    "- `cat_id`: category ID. One level up from `dept_id` in the hierarchy\n",
    "- `store_id`: identifies the specific store where the product was bought\n",
    "- `state_id`: identifies the specific state where the product was bought\n",
    "\n",
    "`date` is supposed to be a `datetime`-like object, but we can see that it was loaded in as a string. Let's convert that column to `datetime`.\n",
    "</span>"
   ],
   "metadata": {
    "collapsed": false
   }
  },
  {
   "cell_type": "code",
   "execution_count": 27,
   "outputs": [
    {
     "data": {
      "text/plain": "date        datetime64[ns]\nid                  object\nitem_id             object\ndept_id             object\ncat_id              object\nstore_id            object\nstate_id            object\ndtype: object"
     },
     "execution_count": 27,
     "metadata": {},
     "output_type": "execute_result"
    }
   ],
   "source": [
    "transactions['date'] = pd.to_datetime(transactions.date) #, format=\"%Y-%m-%d %H:%M:%S\")\n",
    "transactions.dtypes"
   ],
   "metadata": {
    "collapsed": false
   }
  }
 ],
 "metadata": {
  "kernelspec": {
   "display_name": "Python 3",
   "language": "python",
   "name": "python3"
  },
  "language_info": {
   "codemirror_mode": {
    "name": "ipython",
    "version": 2
   },
   "file_extension": ".py",
   "mimetype": "text/x-python",
   "name": "python",
   "nbconvert_exporter": "python",
   "pygments_lexer": "ipython2",
   "version": "2.7.6"
  }
 },
 "nbformat": 4,
 "nbformat_minor": 0
}
