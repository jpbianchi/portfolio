{
 "cells": [
  {
   "cell_type": "code",
   "execution_count": 2,
   "metadata": {},
   "outputs": [],
   "source": [
    "# Import some basic libraries\n",
    "from sklearn.model_selection import train_test_split\n",
    "from sklearn.datasets import load_iris\n",
    "from sklearn.metrics import accuracy_score\n",
    "\n",
    "import pandas as pd\n",
    "import numpy as np"
   ]
  },
  {
   "cell_type": "code",
   "execution_count": 3,
   "metadata": {},
   "outputs": [],
   "source": [
    "# Load in toy dataset from sklearn\n",
    "iris = load_iris()\n",
    "\n",
    "# Split data into features and target\n",
    "X = iris.data\n",
    "y = iris.target\n",
    "\n",
    "# Create training and testing split\n",
    "X_train, X_test, y_train, y_test = train_test_split(X, y, test_size=0.2)"
   ]
  },
  {
   "cell_type": "code",
   "execution_count": 1,
   "metadata": {},
   "outputs": [],
   "source": [
    "# Load classifier from tpot\n",
    "from tpot import TPOTClassifier\n",
    "\n",
    "# Instantiate classifier\n",
    "tpot = TPOTClassifier(verbosity=2, max_time_mins=2)\n",
    "tpot.fit(X_train, y_train)\n",
    "\n",
    "# Print score and fited pipeline\n",
    "print(tpot.score(X_test, y_test))\n",
    "print(tpot.fitted_pipeline_)\n",
    "\n",
    "# (Alternative) export created pipeline as python code\n",
    "# tpot.export('tpot_iris_pipeline.py')"
   ]
  },
  {
   "cell_type": "code",
   "execution_count": null,
   "metadata": {},
   "outputs": [],
   "source": [
    "# Load autokeras\n",
    "import autokeras as ak\n",
    "\n",
    "# Instatiate model and fit\n",
    "clf = ak.StructuredDataClassifier(max_trials=2)\n",
    "clf.fit(X_train, y_train, verbose=1)\n",
    "\n",
    "# Print score for evaluation\n",
    "y_hat = clf.predict(X_test)\n",
    "print(accuracy_score(y_test, y_hat))"
   ]
  },
  {
   "cell_type": "code",
   "execution_count": null,
   "metadata": {},
   "outputs": [],
   "source": [
    "# Import auto-sklearn classifier\n",
    "from autosklearn.classification import AutoSklearnClassifier\n",
    "\n",
    "# Instatiate and fit\n",
    "automl = AutoSklearnClassifier(time_left_for_this_task=180)\n",
    "automl.fit(X_train, y_train)\n",
    "\n",
    "# Evaluate\n",
    "y_hat = automl.predict(X_test)\n",
    "print(accuracy_score(y_test, y_hat))"
   ]
  }
 ],
 "metadata": {
  "kernelspec": {
   "display_name": "Python 3.9.2 64-bit",
   "language": "python",
   "name": "python3"
  },
  "language_info": {
   "codemirror_mode": {
    "name": "ipython",
    "version": 3
   },
   "file_extension": ".py",
   "mimetype": "text/x-python",
   "name": "python",
   "nbconvert_exporter": "python",
   "pygments_lexer": "ipython3",
   "version": "3.9.2"
  },
  "orig_nbformat": 4,
  "vscode": {
   "interpreter": {
    "hash": "31f2aee4e71d21fbe5cf8b01ff0e069b9275f58929596ceb00d14d90e3e16cd6"
   }
  }
 },
 "nbformat": 4,
 "nbformat_minor": 2
}
